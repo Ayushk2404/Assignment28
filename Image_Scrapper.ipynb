{
 "cells": [
  {
   "cell_type": "code",
   "execution_count": 2,
   "metadata": {},
   "outputs": [
    {
     "name": "stdout",
     "output_type": "stream",
     "text": [
      "['https://www.youtube.com/watch?v=KWXKegvNa-I', 'https://www.youtube.com/watch?v=KWXKegvNa-I', 'https://www.youtube.com/watch?v=KWXKegvNa-I', 'https://www.youtube.com/watch?v=dArUpCasmnE', 'https://www.youtube.com/watch?v=dArUpCasmnE', 'https://www.youtube.com/watch?v=dArUpCasmnE']\n"
     ]
    }
   ],
   "source": [
    "# Q1\n",
    "from selenium import webdriver\n",
    "import time\n",
    "from selenium.webdriver.chrome.service import Service\n",
    "from selenium.webdriver.chrome.options import Options\n",
    "from selenium.webdriver.common.by import By\n",
    "chromedriver_path = '/Users/mrbeast/Developer/chromedriver'\n",
    "chrome_options = Options()\n",
    "service = Service(executable_path=chromedriver_path)\n",
    "driver = webdriver.Chrome(service=service, options=chrome_options)\n",
    "driver.get(\"https://www.youtube.com/@PW-Foundation/videos\")\n",
    "links = driver.find_elements(By.TAG_NAME,\"a\")\n",
    "urls = []\n",
    "for link in links:\n",
    "    url = link.get_attribute(\"href\")\n",
    "    urls.append(url)\n",
    "first_5_links = []\n",
    "for url in urls[17:25]:\n",
    "    if url == None:\n",
    "        continue\n",
    "    else:\n",
    "        first_5_links.append(url)\n",
    "print(first_5_links)    "
   ]
  },
  {
   "cell_type": "code",
   "execution_count": 5,
   "metadata": {},
   "outputs": [
    {
     "name": "stdout",
     "output_type": "stream",
     "text": [
      "1\n",
      "https://i.ytimg.com/vi/HqG2QchBw8Y/hqdefault.jpg?sqp=-oaymwEcCNACELwBSFXyq4qpAw4IARUAAIhCGAFwAcABBg==&rs=AOn4CLB2qRg5GsfQROPt6YiiG3CXXiExjg\n"
     ]
    }
   ],
   "source": [
    "# Q2\n",
    "from selenium import webdriver\n",
    "import time\n",
    "from selenium.webdriver.chrome.service import Service\n",
    "from selenium.webdriver.chrome.options import Options\n",
    "from selenium.webdriver.common.by import By\n",
    "chromedriver_path = '/Users/mrbeast/Developer/chromedriver'\n",
    "chrome_options = Options()\n",
    "service = Service(executable_path=chromedriver_path)\n",
    "driver = webdriver.Chrome(service=service, options=chrome_options)\n",
    "driver.get(\"https://www.youtube.com/@PW-Foundation/videos\")\n",
    "links = driver.find_elements(By.TAG_NAME,\"img\")\n",
    "thumbnails = []\n",
    "for thumbnail in links[8:18]:\n",
    "    thumbnail = thumbnail.get_attribute(\"src\")\n",
    "    if thumbnail == None:\n",
    "        continue\n",
    "    else:\n",
    "        thumbnails.append(thumbnail)\n",
    "print(len(thumbnails))\n",
    "for i in thumbnails:\n",
    "    print(i)"
   ]
  },
  {
   "cell_type": "code",
   "execution_count": 6,
   "metadata": {},
   "outputs": [
    {
     "name": "stdout",
     "output_type": "stream",
     "text": [
      "['Oldest', '', '', 'Launching PAHAL Batch 🔥 For Class 11th Arts Students 💪', '']\n"
     ]
    }
   ],
   "source": [
    "# Q3\n",
    "from selenium import webdriver\n",
    "import time\n",
    "from selenium.webdriver.chrome.service import Service\n",
    "from selenium.webdriver.chrome.options import Options\n",
    "from selenium.webdriver.common.by import By\n",
    "chromedriver_path = '/Users/mrbeast/Developer/chromedriver'\n",
    "chrome_options = Options()\n",
    "service = Service(executable_path=chromedriver_path)\n",
    "driver = webdriver.Chrome(service=service, options=chrome_options)\n",
    "driver.get(\"https://www.youtube.com/@PW-Foundation/videos\")\n",
    "#title\n",
    "driver.get(\"https://www.youtube.com/@PW-Foundation/videos\")\n",
    "titles = driver.find_elements(By.TAG_NAME,\"yt-formatted-string\")\n",
    "titles_video = []\n",
    "# print(links)\n",
    "for i in titles[15:35:4]:\n",
    "    titles_video.append(i.text)\n",
    "print(titles_video)"
   ]
  },
  {
   "cell_type": "code",
   "execution_count": 7,
   "metadata": {},
   "outputs": [
    {
     "name": "stdout",
     "output_type": "stream",
     "text": [
      "['20K views', '42K views', '35K views']\n"
     ]
    }
   ],
   "source": [
    "# Q4\n",
    "from selenium import webdriver\n",
    "import time\n",
    "from selenium.webdriver.chrome.service import Service\n",
    "from selenium.webdriver.chrome.options import Options\n",
    "from selenium.webdriver.common.by import By\n",
    "chromedriver_path = '/Users/mrbeast/Developer/chromedriver'\n",
    "chrome_options = Options()\n",
    "service = Service(executable_path=chromedriver_path)\n",
    "driver = webdriver.Chrome(service=service, options=chrome_options)\n",
    "driver.get(\"https://www.youtube.com/@PW-Foundation/videos\")\n",
    "#views\n",
    "driver.get(\"https://www.youtube.com/@PW-Foundation/videos\")\n",
    "views = driver.find_elements(By.TAG_NAME,\"span\")\n",
    "video_views = []\n",
    "for i in views[23:48]:\n",
    "    if str(\"views\") in i.text:\n",
    "        video_views.append(i.text)\n",
    "print(video_views)"
   ]
  },
  {
   "cell_type": "code",
   "execution_count": 11,
   "metadata": {},
   "outputs": [
    {
     "name": "stdout",
     "output_type": "stream",
     "text": [
      "[]\n"
     ]
    }
   ],
   "source": [
    "# Q5\n",
    "from selenium import webdriver\n",
    "import time\n",
    "from selenium.webdriver.chrome.service import Service\n",
    "from selenium.webdriver.chrome.options import Options\n",
    "from selenium.webdriver.common.by import By\n",
    "chromedriver_path = '/Users/mrbeast/Developer/chromedriver'\n",
    "chrome_options = Options()\n",
    "service = Service(executable_path=chromedriver_path)\n",
    "driver = webdriver.Chrome(service=service, options=chrome_options)\n",
    "driver.get(\"https://www.youtube.com/@PW-Foundation/videos\")\n",
    "times = driver.find_elements(By.TAG_NAME,\"span\")\n",
    "video_times = []\n",
    "for i in times[24:]:\n",
    "    if str(\"day\") in i.text:\n",
    "        video_times.append(i.text)\n",
    "print(video_times)"
   ]
  },
  {
   "cell_type": "code",
   "execution_count": null,
   "metadata": {},
   "outputs": [],
   "source": [
    "import csv\n",
    "for i in range(len(first_5_links)-1):\n",
    "    data_csv = str(first_5_links[i]),str(thumbnails[i]),str(titles_video[i]),str(video_views[i]),str(video_times[i])    \n",
    "\n",
    "    with open('video_details.csv', 'w',encoding='utf-8', newline='') as file:\n",
    "        writer = csv.writer(file)\n",
    "        writer.writerow(data_csv)\n",
    "print('done')"
   ]
  }
 ],
 "metadata": {
  "kernelspec": {
   "display_name": "Python 3",
   "language": "python",
   "name": "python3"
  },
  "language_info": {
   "codemirror_mode": {
    "name": "ipython",
    "version": 3
   },
   "file_extension": ".py",
   "mimetype": "text/x-python",
   "name": "python",
   "nbconvert_exporter": "python",
   "pygments_lexer": "ipython3",
   "version": "3.11.4"
  },
  "orig_nbformat": 4
 },
 "nbformat": 4,
 "nbformat_minor": 2
}
